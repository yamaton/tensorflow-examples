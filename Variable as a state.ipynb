{
 "cells": [
  {
   "cell_type": "markdown",
   "metadata": {},
   "source": [
    "# Variables as a state in TensorFlow"
   ]
  },
  {
   "cell_type": "code",
   "execution_count": 1,
   "metadata": {},
   "outputs": [],
   "source": [
    "import collections\n",
    "import tensorflow as tf\n",
    "import numpy as np"
   ]
  },
  {
   "cell_type": "code",
   "execution_count": 2,
   "metadata": {},
   "outputs": [
    {
     "name": "stdout",
     "output_type": "stream",
     "text": [
      "TensorFlow version: 1.10.0\n"
     ]
    }
   ],
   "source": [
    "print(\"TensorFlow version:\", tf.__version__)"
   ]
  },
  {
   "cell_type": "markdown",
   "metadata": {},
   "source": [
    "## Variable creation and call"
   ]
  },
  {
   "cell_type": "markdown",
   "metadata": {},
   "source": [
    "Initialize a variable. **[NOTE]** This cannot be called more than once."
   ]
  },
  {
   "cell_type": "code",
   "execution_count": 3,
   "metadata": {},
   "outputs": [],
   "source": [
    "with tf.variable_scope(\"test0\") as scope:\n",
    "    x = tf.get_variable(name=\"x\", shape=[3], dtype=tf.float32, initializer=tf.random_normal_initializer)"
   ]
  },
  {
   "cell_type": "markdown",
   "metadata": {},
   "source": [
    "Call the pre-defined variable with `reuse=True` option. "
   ]
  },
  {
   "cell_type": "code",
   "execution_count": 4,
   "metadata": {},
   "outputs": [],
   "source": [
    "with tf.variable_scope(\"test0\", reuse=True) as scope:\n",
    "    y = tf.get_variable(name=\"x\", shape=[3], dtype=tf.float32)"
   ]
  },
  {
   "cell_type": "markdown",
   "metadata": {},
   "source": [
    "The variable access is global hence you can even call from different scope."
   ]
  },
  {
   "cell_type": "code",
   "execution_count": 5,
   "metadata": {},
   "outputs": [],
   "source": [
    "def call_within_function_scope():\n",
    "    with tf.variable_scope(\"test0\", reuse=True) as scope:\n",
    "        return tf.get_variable(name=\"x\", shape=[3], dtype=tf.float32)"
   ]
  },
  {
   "cell_type": "code",
   "execution_count": 6,
   "metadata": {},
   "outputs": [],
   "source": [
    "z = call_within_function_scope()"
   ]
  },
  {
   "cell_type": "code",
   "execution_count": 7,
   "metadata": {},
   "outputs": [
    {
     "name": "stdout",
     "output_type": "stream",
     "text": [
      "Tensors' ids are the same?: True\n",
      "Numpy arrays ids are the same? True\n"
     ]
    }
   ],
   "source": [
    "with tf.Session() as sess:\n",
    "    sess.run(tf.global_variables_initializer())\n",
    "    x_np, y_np, z_np = sess.run((x, y, z))\n",
    "    print(\"Tensors' ids are the same?:\", id(x) == id(y) == id(z))\n",
    "    print(\"Numpy arrays ids are the same?\", id(x_np) == id(y_np) == id(z_np))"
   ]
  },
  {
   "cell_type": "markdown",
   "metadata": {},
   "source": [
    "## Fibonacci sequence with variable assignment"
   ]
  },
  {
   "cell_type": "markdown",
   "metadata": {},
   "source": [
    "Demonstrate variable assignment by computing Fibonacci sequence.\n",
    "\n",
    "$$\n",
    "\\begin{pmatrix}\n",
    "    F_{n+1} \\\\\n",
    "    F_{n+2}\n",
    "\\end{pmatrix}\n",
    "=\n",
    "\\begin{pmatrix}\n",
    "    0 & 1 \\\\\n",
    "    1 & 1 \n",
    "\\end{pmatrix}\n",
    "\\begin{pmatrix}\n",
    "    F_{n} \\\\\n",
    "    F_{n+1}\n",
    "\\end{pmatrix}\n",
    "$$"
   ]
  },
  {
   "cell_type": "code",
   "execution_count": 8,
   "metadata": {},
   "outputs": [],
   "source": [
    "## Again, you cannot run this cell more than once\n",
    "\n",
    "with tf.variable_scope(\"var\") as scope:\n",
    "    variable = tf.get_variable(name=\"pair\", dtype=tf.int32, initializer=[0, 1])"
   ]
  },
  {
   "cell_type": "code",
   "execution_count": 9,
   "metadata": {},
   "outputs": [
    {
     "name": "stdout",
     "output_type": "stream",
     "text": [
      "[0 1]\n",
      "[1 1]\n",
      "[1 2]\n",
      "[2 3]\n",
      "[3 5]\n",
      "[5 8]\n",
      "[ 8 13]\n",
      "[13 21]\n",
      "[21 34]\n",
      "[34 55]\n",
      "[55 89]\n"
     ]
    }
   ],
   "source": [
    "with tf.Session() as sess:\n",
    "    sess.run(tf.global_variables_initializer())\n",
    "    with tf.variable_scope(\"var\", reuse=True) as scope:\n",
    "        vv = tf.get_variable(name=\"pair\", dtype=tf.int32)\n",
    "    print(sess.run(vv))\n",
    "    assign_op = tf.assign(vv, [vv[1], vv[0] + vv[1]])\n",
    "    for _ in range(10):\n",
    "        sess.run(assign_op)\n",
    "        print(sess.run(vv))"
   ]
  },
  {
   "cell_type": "markdown",
   "metadata": {},
   "source": [
    "## Input, output, and state"
   ]
  },
  {
   "cell_type": "markdown",
   "metadata": {},
   "source": [
    "Previously we only had a state $S$. Now we incorporate input $X$ and output $Y$ together with state updates such that $(X, S) \\to (Y, S)$. Specifically, we try to compute\n",
    "\n",
    "$$\n",
    "\\begin{align*}\n",
    "S_\\textrm{new} &= \\frac{X - S}{2} \\\\\n",
    "Y &= X + S\n",
    "\\end{align*}\n",
    "$$"
   ]
  },
  {
   "cell_type": "code",
   "execution_count": 10,
   "metadata": {},
   "outputs": [],
   "source": [
    "## You cannot run this cell more than once\n",
    "\n",
    "with tf.variable_scope(\"hello\") as scope:\n",
    "    s = tf.get_variable(name=\"s\", dtype=tf.float32, shape=[2], trainable=False, initializer=tf.zeros_initializer)"
   ]
  },
  {
   "cell_type": "code",
   "execution_count": 11,
   "metadata": {},
   "outputs": [],
   "source": [
    "def compute(inputs, scope_name=\"hello\"):\n",
    "    with tf.variable_scope(scope_name, reuse=True):\n",
    "        state = tf.get_variable(name=\"s\", trainable=False)\n",
    "\n",
    "    outputs = inputs + state\n",
    "    new_state = 0.5 * (inputs - state)\n",
    "    return {\"output\": outputs, \"state\": new_state}"
   ]
  },
  {
   "cell_type": "code",
   "execution_count": 12,
   "metadata": {},
   "outputs": [
    {
     "name": "stdout",
     "output_type": "stream",
     "text": [
      "{'output': array([1., 2.], dtype=float32), 'state': array([0.5, 1. ], dtype=float32)}\n",
      "{'output': array([1.5, 3. ], dtype=float32), 'state': array([0.25, 0.5 ], dtype=float32)}\n",
      "{'output': array([1.25, 2.5 ], dtype=float32), 'state': array([0.375, 0.75 ], dtype=float32)}\n",
      "{'output': array([1.375, 2.75 ], dtype=float32), 'state': array([0.3125, 0.625 ], dtype=float32)}\n",
      "{'output': array([1.3125, 2.625 ], dtype=float32), 'state': array([0.34375, 0.6875 ], dtype=float32)}\n"
     ]
    }
   ],
   "source": [
    "with tf.Session() as sess:\n",
    "    sess.run(tf.global_variables_initializer())\n",
    "    \n",
    "    input_ = tf.placeholder(dtype=tf.float32, shape=[2])\n",
    "    output = compute(input_)\n",
    "    for _ in range(5):\n",
    "        output_dict = sess.run((output), feed_dict={input_: [1.0, 2.0]})\n",
    "        print(output_dict) \n",
    "        # assign the updated s value to the variable s.\n",
    "        assign_op = tf.assign(s, output_dict[\"state\"])\n",
    "        sess.run(assign_op)"
   ]
  },
  {
   "cell_type": "markdown",
   "metadata": {},
   "source": [
    "## Compute and assign at once"
   ]
  },
  {
   "cell_type": "markdown",
   "metadata": {},
   "source": [
    "Previous example was little clumsy in that update calculation and state-value assignment were done separately. To do them at once, we need to add the tensor-assigning operation to the computational graph. `tf.control_dependencies` does the job. **[NOTE]** There is subtlty in "
   ]
  },
  {
   "cell_type": "code",
   "execution_count": 13,
   "metadata": {},
   "outputs": [],
   "source": [
    "def compute_and_update_state(input_, scope_name=\"hello\"):\n",
    "    with tf.variable_scope(scope_name, reuse=True):\n",
    "        state = tf.get_variable(name=\"s\", trainable=False)\n",
    "    output = input_ + state\n",
    "    new_state = 0.5 * (input_ - state)\n",
    "    \n",
    "    ## [NOTE] this assign_op location matters!\n",
    "    ##        the execution order is disturbed (in rabdom manner) \n",
    "    ##        if the op is stated outside of the context manager\n",
    "    ##        Ref: https://www.tensorflow.org/versions/r1.2/api_docs/python/tf/Graph#control_dependencies\n",
    "    with tf.control_dependencies([output, new_state]):\n",
    "        assign_op = tf.assign(state, new_state)  \n",
    "        with tf.control_dependencies([assign_op]):\n",
    "            output_ = tf.identity(output, name=\"out\")\n",
    "    return {\"output\": output_, \"state\": new_state}"
   ]
  },
  {
   "cell_type": "code",
   "execution_count": 14,
   "metadata": {},
   "outputs": [
    {
     "name": "stdout",
     "output_type": "stream",
     "text": [
      "{'output': array([1., 2.], dtype=float32), 'state': array([0.5, 1. ], dtype=float32)}\n",
      "{'output': array([1.5, 3. ], dtype=float32), 'state': array([0.25, 0.5 ], dtype=float32)}\n",
      "{'output': array([1.25, 2.5 ], dtype=float32), 'state': array([0.375, 0.75 ], dtype=float32)}\n",
      "{'output': array([1.375, 2.75 ], dtype=float32), 'state': array([0.3125, 0.625 ], dtype=float32)}\n",
      "{'output': array([1.3125, 2.625 ], dtype=float32), 'state': array([0.34375, 0.6875 ], dtype=float32)}\n"
     ]
    }
   ],
   "source": [
    "with tf.Session() as sess:\n",
    "    sess.run(tf.global_variables_initializer())\n",
    "    \n",
    "    inputs = tf.placeholder(dtype=tf.float32, shape=[2])\n",
    "    output = compute_and_update_state(inputs)\n",
    "    for _ in range(5):\n",
    "        output_dict = sess.run((output), feed_dict={inputs: np.array([1., 2.])})\n",
    "        print(output_dict)"
   ]
  },
  {
   "cell_type": "code",
   "execution_count": null,
   "metadata": {},
   "outputs": [],
   "source": []
  }
 ],
 "metadata": {
  "kernelspec": {
   "display_name": "Python 3",
   "language": "python",
   "name": "python3"
  },
  "language_info": {
   "codemirror_mode": {
    "name": "ipython",
    "version": 3
   },
   "file_extension": ".py",
   "mimetype": "text/x-python",
   "name": "python",
   "nbconvert_exporter": "python",
   "pygments_lexer": "ipython3",
   "version": "3.6.6"
  }
 },
 "nbformat": 4,
 "nbformat_minor": 2
}
