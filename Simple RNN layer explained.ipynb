{
 "cells": [
  {
   "cell_type": "markdown",
   "metadata": {},
   "source": [
    "# Simple RNN layer playground"
   ]
  },
  {
   "cell_type": "markdown",
   "metadata": {},
   "source": [
    "Keras' simple RNN cell is given by\n",
    "\n",
    "$$\n",
    "\\begin{align*}\n",
    "  a^{\\langle t \\rangle} &= g(W_{a a} a^{\\langle t - 1 \\rangle} + W_{a x} x^{\\langle t \\rangle} + b_a) \\\\\n",
    "  y^{\\langle t \\rangle} &= a^{\\langle t \\rangle}\n",
    "\\end{align*}\n",
    "$$\n",
    "\n",
    "\n",
    "See https://stanford.edu/~shervine/teaching/cs-230/cheatsheet-recurrent-neural-networks for figures.\n",
    "\n",
    "![](https://stanford.edu/~shervine/images/architecture-rnn.png)"
   ]
  },
  {
   "cell_type": "markdown",
   "metadata": {},
   "source": [
    "## Load packages and set constants"
   ]
  },
  {
   "cell_type": "code",
   "execution_count": 1,
   "metadata": {},
   "outputs": [],
   "source": [
    "import collections\n",
    "import tensorflow as tf\n",
    "import numpy as np\n",
    "tf.enable_eager_execution()"
   ]
  },
  {
   "cell_type": "code",
   "execution_count": 2,
   "metadata": {},
   "outputs": [
    {
     "name": "stdout",
     "output_type": "stream",
     "text": [
      "TensorFlow version: 1.12.0\n"
     ]
    }
   ],
   "source": [
    "print(\"TensorFlow version:\", tf.__version__)"
   ]
  },
  {
   "cell_type": "code",
   "execution_count": 3,
   "metadata": {},
   "outputs": [],
   "source": [
    "BATCH_SIZE = 2   # number of examples in a batch\n",
    "SEQ_LEN = 3      # steps in time\n",
    "NUM_INPUTS = 4   # number of input elements\n",
    "NUM_UNITS = 5    # number of output elements"
   ]
  },
  {
   "cell_type": "markdown",
   "metadata": {},
   "source": [
    "## Generate inputs $x^{\\langle t \\rangle}$"
   ]
  },
  {
   "cell_type": "markdown",
   "metadata": {},
   "source": [
    "Let the input tensor to RNN layer have the shape (`BATCH_SIZE`, `SEQ_LEN` , `NUM_INPUT`)."
   ]
  },
  {
   "cell_type": "code",
   "execution_count": 4,
   "metadata": {},
   "outputs": [
    {
     "data": {
      "text/plain": [
       "<tf.Tensor: id=7, shape=(2, 3, 4), dtype=float32, numpy=\n",
       "array([[[0.8850105 , 0.16727424, 0.9909543 , 0.6814976 ],\n",
       "        [0.33877563, 0.532905  , 0.52076006, 0.62972796],\n",
       "        [0.6602318 , 0.01045537, 0.2976935 , 0.87475884]],\n",
       "\n",
       "       [[0.2355243 , 0.5748211 , 0.4694022 , 0.9221631 ],\n",
       "        [0.87576556, 0.37243688, 0.1085155 , 0.52194774],\n",
       "        [0.05801499, 0.5170574 , 0.9994899 , 0.6916456 ]]], dtype=float32)>"
      ]
     },
     "execution_count": 4,
     "metadata": {},
     "output_type": "execute_result"
    }
   ],
   "source": [
    "rnn_inputs = tf.random.uniform((BATCH_SIZE, SEQ_LEN, NUM_INPUTS))\n",
    "rnn_inputs"
   ]
  },
  {
   "cell_type": "markdown",
   "metadata": {},
   "source": [
    "## Generate initial state  $a^{\\langle 0 \\rangle}$"
   ]
  },
  {
   "cell_type": "markdown",
   "metadata": {},
   "source": [
    "Ths shape of initial state should be "
   ]
  },
  {
   "cell_type": "code",
   "execution_count": 5,
   "metadata": {},
   "outputs": [],
   "source": [
    "def get_initial_state(batch_size=BATCH_SIZE, num_units=NUM_UNITS, dtype=tf.float32):\n",
    "    res = tf.random.uniform(shape=(batch_size, num_units), dtype=dtype)\n",
    "    return res"
   ]
  },
  {
   "cell_type": "code",
   "execution_count": 6,
   "metadata": {},
   "outputs": [
    {
     "data": {
      "text/plain": [
       "<tf.Tensor: id=15, shape=(2, 5), dtype=float32, numpy=\n",
       "array([[0.35296965, 0.4760883 , 0.218315  , 0.18823195, 0.00805771],\n",
       "       [0.9478549 , 0.09216118, 0.97593653, 0.4762491 , 0.43910003]],\n",
       "      dtype=float32)>"
      ]
     },
     "execution_count": 6,
     "metadata": {},
     "output_type": "execute_result"
    }
   ],
   "source": [
    "rnn_initial_state = get_initial_state()\n",
    "rnn_initial_state"
   ]
  },
  {
   "cell_type": "markdown",
   "metadata": {},
   "source": [
    "## Prepare Keras Simple RNN Cell"
   ]
  },
  {
   "cell_type": "code",
   "execution_count": 7,
   "metadata": {},
   "outputs": [],
   "source": [
    "rnn_cell = tf.keras.layers.SimpleRNNCell(NUM_UNITS)"
   ]
  },
  {
   "cell_type": "markdown",
   "metadata": {},
   "source": [
    "## Direct implementaiton using the RNN cell"
   ]
  },
  {
   "cell_type": "code",
   "execution_count": 8,
   "metadata": {},
   "outputs": [
    {
     "name": "stdout",
     "output_type": "stream",
     "text": [
      "RNN cell: simple_rnn_cell\n"
     ]
    },
    {
     "data": {
      "text/plain": [
       "<tf.Tensor: id=101, shape=(2, 3, 5), dtype=float32, numpy=\n",
       "array([[[-0.36660486, -0.4447528 ,  0.87347555, -0.7347421 ,\n",
       "         -0.01985181],\n",
       "        [ 0.5818863 ,  0.22447369,  0.48186636, -0.04692241,\n",
       "          0.39645603],\n",
       "        [-0.03439999, -0.51233447,  0.89835167, -0.00620399,\n",
       "          0.30584958]],\n",
       "\n",
       "       [[-0.48060995, -0.3623284 ,  0.9320335 ,  0.5762862 ,\n",
       "          0.87290055],\n",
       "        [-0.46589628,  0.6837234 ,  0.8777357 ,  0.63304055,\n",
       "          0.5171348 ],\n",
       "        [-0.5784061 ,  0.69833964,  0.8481758 , -0.5574479 ,\n",
       "          0.19966465]]], dtype=float32)>"
      ]
     },
     "execution_count": 8,
     "metadata": {},
     "output_type": "execute_result"
    }
   ],
   "source": [
    "print(\"RNN cell:\", rnn_cell.name)\n",
    "stack = []\n",
    "rnn_state = rnn_initial_state\n",
    "for i in range(SEQ_LEN):\n",
    "    output_snapshot, [rnn_state] = rnn_cell(inputs=rnn_inputs[:, i, :], states=[rnn_state])\n",
    "    stack.append(output_snapshot)\n",
    "tmp = tf.convert_to_tensor(stack)          # time major\n",
    "rnn_output = tf.transpose(tmp, [1, 0, 2])  # batch major\n",
    "rnn_output"
   ]
  },
  {
   "cell_type": "markdown",
   "metadata": {},
   "source": [
    "## Equivalent implementation with `nn.dynamic_rnn()`"
   ]
  },
  {
   "cell_type": "code",
   "execution_count": 9,
   "metadata": {},
   "outputs": [
    {
     "name": "stdout",
     "output_type": "stream",
     "text": [
      "RNN cell: simple_rnn_cell\n"
     ]
    },
    {
     "data": {
      "text/plain": [
       "<tf.Tensor: id=207, shape=(2, 3, 5), dtype=float32, numpy=\n",
       "array([[[-0.36660486, -0.4447528 ,  0.87347555, -0.7347421 ,\n",
       "         -0.01985181],\n",
       "        [ 0.5818863 ,  0.22447369,  0.48186636, -0.04692241,\n",
       "          0.39645603],\n",
       "        [-0.03439999, -0.51233447,  0.89835167, -0.00620399,\n",
       "          0.30584958]],\n",
       "\n",
       "       [[-0.48060995, -0.3623284 ,  0.9320335 ,  0.5762862 ,\n",
       "          0.87290055],\n",
       "        [-0.46589628,  0.6837234 ,  0.8777357 ,  0.63304055,\n",
       "          0.5171348 ],\n",
       "        [-0.5784061 ,  0.69833964,  0.8481758 , -0.5574479 ,\n",
       "          0.19966465]]], dtype=float32)>"
      ]
     },
     "execution_count": 9,
     "metadata": {},
     "output_type": "execute_result"
    }
   ],
   "source": [
    "print(\"RNN cell:\", rnn_cell.name)\n",
    "rnn_output2, rnn_state2 = tf.nn.dynamic_rnn(rnn_cell, rnn_inputs, initial_state=rnn_initial_state)\n",
    "rnn_output2"
   ]
  },
  {
   "cell_type": "markdown",
   "metadata": {},
   "source": [
    "## Compare for-loop results with `nn.dynamics_rnn()` outputs"
   ]
  },
  {
   "cell_type": "code",
   "execution_count": 10,
   "metadata": {},
   "outputs": [
    {
     "data": {
      "text/plain": [
       "True"
      ]
     },
     "execution_count": 10,
     "metadata": {},
     "output_type": "execute_result"
    }
   ],
   "source": [
    "(rnn_output.numpy() == rnn_output2.numpy()).all()"
   ]
  },
  {
   "cell_type": "code",
   "execution_count": 11,
   "metadata": {},
   "outputs": [
    {
     "data": {
      "text/plain": [
       "True"
      ]
     },
     "execution_count": 11,
     "metadata": {},
     "output_type": "execute_result"
    }
   ],
   "source": [
    "(rnn_state.numpy() == rnn_state2.numpy()).all()"
   ]
  },
  {
   "cell_type": "code",
   "execution_count": 12,
   "metadata": {},
   "outputs": [
    {
     "data": {
      "text/plain": [
       "True"
      ]
     },
     "execution_count": 12,
     "metadata": {},
     "output_type": "execute_result"
    }
   ],
   "source": [
    "(rnn_output[:, -1, :].numpy() == rnn_state2.numpy()).all()"
   ]
  },
  {
   "cell_type": "code",
   "execution_count": null,
   "metadata": {},
   "outputs": [],
   "source": []
  },
  {
   "cell_type": "markdown",
   "metadata": {},
   "source": [
    "## Reproduction in numpy"
   ]
  },
  {
   "cell_type": "code",
   "execution_count": 13,
   "metadata": {},
   "outputs": [],
   "source": [
    "import numpy as np"
   ]
  },
  {
   "cell_type": "code",
   "execution_count": 14,
   "metadata": {},
   "outputs": [],
   "source": [
    "# prepare all parameters as numpy array\n",
    "kernel_np = rnn_cell.kernel.numpy()\n",
    "bias_np = rnn_cell.bias.numpy()\n",
    "recurrent_kernel_np = rnn_cell.recurrent_kernel.numpy()\n",
    "rnn_inputs_np = rnn_inputs.numpy()\n",
    "rnn_initial_state_np = rnn_initial_state.numpy()"
   ]
  },
  {
   "cell_type": "code",
   "execution_count": 15,
   "metadata": {},
   "outputs": [
    {
     "data": {
      "text/plain": [
       "(2, 3, 4)"
      ]
     },
     "execution_count": 15,
     "metadata": {},
     "output_type": "execute_result"
    }
   ],
   "source": [
    "rnn_inputs_np.shape"
   ]
  },
  {
   "cell_type": "code",
   "execution_count": 16,
   "metadata": {},
   "outputs": [
    {
     "data": {
      "text/plain": [
       "(4, 5)"
      ]
     },
     "execution_count": 16,
     "metadata": {},
     "output_type": "execute_result"
    }
   ],
   "source": [
    "kernel_np.shape"
   ]
  },
  {
   "cell_type": "code",
   "execution_count": 17,
   "metadata": {},
   "outputs": [
    {
     "data": {
      "text/plain": [
       "array([[-0.36660492, -0.44475284,  0.87347555, -0.73474205, -0.01985181],\n",
       "       [-0.48060992, -0.3623284 ,  0.93203354,  0.57628614,  0.8729006 ]],\n",
       "      dtype=float32)"
      ]
     },
     "execution_count": 17,
     "metadata": {},
     "output_type": "execute_result"
    }
   ],
   "source": [
    "first_seq_out_np = np.tanh(np.dot(rnn_inputs_np[:, 0, :], kernel_np) + bias_np + np.dot(rnn_initial_state_np, recurrent_kernel_np))\n",
    "first_seq_out_np"
   ]
  },
  {
   "cell_type": "markdown",
   "metadata": {},
   "source": [
    "## Comparing with Keras SimpleRNNCell"
   ]
  },
  {
   "cell_type": "code",
   "execution_count": 18,
   "metadata": {},
   "outputs": [],
   "source": [
    "first_seq_out, first_seq_state = rnn_cell(inputs=rnn_inputs[:, 0, :], states=[rnn_initial_state])"
   ]
  },
  {
   "cell_type": "code",
   "execution_count": 19,
   "metadata": {},
   "outputs": [
    {
     "data": {
      "text/plain": [
       "<tf.Tensor: id=238, shape=(2, 5), dtype=float32, numpy=\n",
       "array([[-0.36660486, -0.4447528 ,  0.87347555, -0.7347421 , -0.01985181],\n",
       "       [-0.48060995, -0.3623284 ,  0.9320335 ,  0.5762862 ,  0.87290055]],\n",
       "      dtype=float32)>"
      ]
     },
     "execution_count": 19,
     "metadata": {},
     "output_type": "execute_result"
    }
   ],
   "source": [
    "first_seq_out"
   ]
  },
  {
   "cell_type": "code",
   "execution_count": 20,
   "metadata": {},
   "outputs": [
    {
     "data": {
      "text/plain": [
       "True"
      ]
     },
     "execution_count": 20,
     "metadata": {},
     "output_type": "execute_result"
    }
   ],
   "source": [
    "np.allclose(first_seq_out_np, first_seq_out.numpy())"
   ]
  },
  {
   "cell_type": "code",
   "execution_count": null,
   "metadata": {},
   "outputs": [],
   "source": []
  }
 ],
 "metadata": {
  "kernelspec": {
   "display_name": "Python 3",
   "language": "python",
   "name": "python3"
  },
  "language_info": {
   "codemirror_mode": {
    "name": "ipython",
    "version": 3
   },
   "file_extension": ".py",
   "mimetype": "text/x-python",
   "name": "python",
   "nbconvert_exporter": "python",
   "pygments_lexer": "ipython3",
   "version": "3.6.7"
  }
 },
 "nbformat": 4,
 "nbformat_minor": 2
}
