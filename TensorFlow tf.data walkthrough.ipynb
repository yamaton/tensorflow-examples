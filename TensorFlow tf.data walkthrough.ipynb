{
 "cells": [
  {
   "cell_type": "markdown",
   "metadata": {},
   "source": [
    "# TesorFlow tf.data"
   ]
  },
  {
   "cell_type": "markdown",
   "metadata": {},
   "source": [
    "This document assumes TensorFlow 2.0+ and deal with `tf.data`."
   ]
  },
  {
   "cell_type": "code",
   "execution_count": 1,
   "metadata": {},
   "outputs": [],
   "source": [
    "import tensorflow as tf\n",
    "import itertools as it"
   ]
  },
  {
   "cell_type": "code",
   "execution_count": 2,
   "metadata": {},
   "outputs": [
    {
     "name": "stdout",
     "output_type": "stream",
     "text": [
      "TensorFlow version: 2.0.0-beta1\n"
     ]
    }
   ],
   "source": [
    "print(\"TensorFlow version:\", tf.__version__)"
   ]
  },
  {
   "cell_type": "markdown",
   "metadata": {},
   "source": [
    "## Basic ranging with `tf.data.Dataset.range()`\n",
    "\n",
    "Lets' start with a dataset giving integers 0, 1, 2, 3, 4, 5, 6. In raw Python we use `range(7)` for this purpse, but we want analogous one that works great in distributed computing: `tf.data.Dataset.range()`"
   ]
  },
  {
   "cell_type": "code",
   "execution_count": 3,
   "metadata": {},
   "outputs": [
    {
     "data": {
      "text/plain": [
       "<RangeDataset shapes: (), types: tf.int64>"
      ]
     },
     "execution_count": 3,
     "metadata": {},
     "output_type": "execute_result"
    }
   ],
   "source": [
    "ds = tf.data.Dataset.range(7)\n",
    "ds"
   ]
  },
  {
   "cell_type": "markdown",
   "metadata": {},
   "source": [
    "With eager mode enabled, `tf.data.Dataset` may be treated as a Python iterable object. Otherwise we need to convert the object into `tf.data.Iterator` with `.make_one_shot_iterator()`. Then the iterator is accessed with TensorFlow iterator APIs such as `.get_next()`."
   ]
  },
  {
   "cell_type": "code",
   "execution_count": 4,
   "metadata": {},
   "outputs": [
    {
     "name": "stdout",
     "output_type": "stream",
     "text": [
      "tf.Tensor(0, shape=(), dtype=int64)\n",
      "Type: <class 'tensorflow.python.framework.ops.EagerTensor'>, value = 0\n",
      "tf.Tensor(1, shape=(), dtype=int64)\n",
      "Type: <class 'tensorflow.python.framework.ops.EagerTensor'>, value = 1\n",
      "tf.Tensor(2, shape=(), dtype=int64)\n",
      "Type: <class 'tensorflow.python.framework.ops.EagerTensor'>, value = 2\n",
      "tf.Tensor(3, shape=(), dtype=int64)\n",
      "Type: <class 'tensorflow.python.framework.ops.EagerTensor'>, value = 3\n",
      "tf.Tensor(4, shape=(), dtype=int64)\n",
      "Type: <class 'tensorflow.python.framework.ops.EagerTensor'>, value = 4\n",
      "tf.Tensor(5, shape=(), dtype=int64)\n",
      "Type: <class 'tensorflow.python.framework.ops.EagerTensor'>, value = 5\n",
      "tf.Tensor(6, shape=(), dtype=int64)\n",
      "Type: <class 'tensorflow.python.framework.ops.EagerTensor'>, value = 6\n"
     ]
    }
   ],
   "source": [
    "for x in ds:\n",
    "    print(x)\n",
    "    print(f\"Type: {type(x)}, value = {x.numpy()}\")"
   ]
  },
  {
   "cell_type": "markdown",
   "metadata": {},
   "source": [
    "## Grouping with `tf.data.Dataset.batch()`"
   ]
  },
  {
   "cell_type": "markdown",
   "metadata": {},
   "source": [
    "`tf.data.Dataset.batch()` is a handy function in grouping dataset elements by chunks. Also note the return type is `BatchDataset`."
   ]
  },
  {
   "cell_type": "code",
   "execution_count": 5,
   "metadata": {},
   "outputs": [
    {
     "data": {
      "text/plain": [
       "<BatchDataset shapes: (2,), types: tf.int64>"
      ]
     },
     "execution_count": 5,
     "metadata": {},
     "output_type": "execute_result"
    }
   ],
   "source": [
    "ds = tf.data.Dataset.range(7)\n",
    "ds = ds.batch(2, drop_remainder=True)\n",
    "ds"
   ]
  },
  {
   "cell_type": "code",
   "execution_count": 6,
   "metadata": {},
   "outputs": [
    {
     "name": "stdout",
     "output_type": "stream",
     "text": [
      "tf.Tensor([0 1], shape=(2,), dtype=int64)\n",
      "tf.Tensor([2 3], shape=(2,), dtype=int64)\n",
      "tf.Tensor([4 5], shape=(2,), dtype=int64)\n"
     ]
    }
   ],
   "source": [
    "for x in ds:\n",
    "    print(x)"
   ]
  },
  {
   "cell_type": "markdown",
   "metadata": {},
   "source": [
    "Note that the last element was dropped because of the option `drop_remainder=True` in `.batch()`."
   ]
  },
  {
   "cell_type": "markdown",
   "metadata": {},
   "source": [
    "You can apply batch multiple times to obtain high-dimensional element."
   ]
  },
  {
   "cell_type": "code",
   "execution_count": 7,
   "metadata": {},
   "outputs": [
    {
     "data": {
      "text/plain": [
       "<BatchDataset shapes: (3, 2), types: tf.int64>"
      ]
     },
     "execution_count": 7,
     "metadata": {},
     "output_type": "execute_result"
    }
   ],
   "source": [
    "ds = tf.data.Dataset.range(20)\n",
    "ds = ds.batch(2, drop_remainder=True).batch(3, drop_remainder=True)\n",
    "ds"
   ]
  },
  {
   "cell_type": "code",
   "execution_count": 8,
   "metadata": {},
   "outputs": [
    {
     "name": "stdout",
     "output_type": "stream",
     "text": [
      "tf.Tensor(\n",
      "[[0 1]\n",
      " [2 3]\n",
      " [4 5]], shape=(3, 2), dtype=int64)\n",
      "tf.Tensor(\n",
      "[[ 6  7]\n",
      " [ 8  9]\n",
      " [10 11]], shape=(3, 2), dtype=int64)\n",
      "tf.Tensor(\n",
      "[[12 13]\n",
      " [14 15]\n",
      " [16 17]], shape=(3, 2), dtype=int64)\n"
     ]
    }
   ],
   "source": [
    "for x in ds:\n",
    "    print(x)"
   ]
  },
  {
   "cell_type": "markdown",
   "metadata": {},
   "source": [
    "## Tuple element"
   ]
  },
  {
   "cell_type": "markdown",
   "metadata": {},
   "source": [
    "Tuple of tensors becomes dataset with a tuple element after `.tf.data.Dataset.from_tensor_slices()`. This works like `zip()` in Python, but it takes tensors instead of iterables."
   ]
  },
  {
   "cell_type": "markdown",
   "metadata": {},
   "source": [
    "**[NOTE]** Length of element must agree otherwise `ValueError` raises."
   ]
  },
  {
   "cell_type": "code",
   "execution_count": 9,
   "metadata": {},
   "outputs": [
    {
     "data": {
      "text/plain": [
       "<TensorSliceDataset shapes: ((), ()), types: (tf.int32, tf.int32)>"
      ]
     },
     "execution_count": 9,
     "metadata": {},
     "output_type": "execute_result"
    }
   ],
   "source": [
    "tuple_of_tensors = (tf.range(10), tf.range(2, 12))\n",
    "ds = tf.data.Dataset.from_tensor_slices(tuple_of_tensors)\n",
    "ds"
   ]
  },
  {
   "cell_type": "code",
   "execution_count": 10,
   "metadata": {},
   "outputs": [
    {
     "name": "stdout",
     "output_type": "stream",
     "text": [
      "x=0, y=2\n",
      "x=1, y=3\n",
      "x=2, y=4\n",
      "x=3, y=5\n",
      "x=4, y=6\n",
      "x=5, y=7\n",
      "x=6, y=8\n",
      "x=7, y=9\n",
      "x=8, y=10\n",
      "x=9, y=11\n"
     ]
    }
   ],
   "source": [
    "for (x, y) in ds:\n",
    "    print(f\"x={x}, y={y}\")"
   ]
  },
  {
   "cell_type": "markdown",
   "metadata": {},
   "source": [
    "`.batch` works magically; we'll still get a tuple as the dataset element, but each tuple component is batched."
   ]
  },
  {
   "cell_type": "code",
   "execution_count": 11,
   "metadata": {},
   "outputs": [
    {
     "name": "stdout",
     "output_type": "stream",
     "text": [
      "x=[0 1 2],  y=[2 3 4]\n",
      "x=[3 4 5],  y=[5 6 7]\n",
      "x=[6 7 8],  y=[ 8  9 10]\n",
      "x=[9],  y=[11]\n"
     ]
    }
   ],
   "source": [
    "ds = ds.batch(3)\n",
    "for (x, y) in ds:\n",
    "    print(f\"x={x},  y={y}\")"
   ]
  },
  {
   "cell_type": "markdown",
   "metadata": {},
   "source": [
    "Also, unpacking in lambda function works magically in `tf.data.Dataset.map()` unlike raw Python. [**]"
   ]
  },
  {
   "cell_type": "code",
   "execution_count": 12,
   "metadata": {},
   "outputs": [
    {
     "name": "stdout",
     "output_type": "stream",
     "text": [
      "x=[ 4  7 10],  y=[ 0 10 24]\n",
      "x=[13 16 19],  y=[42 64 90]\n",
      "x=[22],  y=[120]\n"
     ]
    }
   ],
   "source": [
    "tuple_of_tensors = ([0,2,4,6,8,10,12], [4,5,6,7,8,9,10])\n",
    "ds = tf.data.Dataset.from_tensor_slices(tuple_of_tensors)\n",
    "ds = ds.map(lambda x, y: (x + y, x * y))\n",
    "ds = ds.batch(3)\n",
    "\n",
    "for (x, y) in ds:\n",
    "    print(f\"x={x},  y={y}\")"
   ]
  },
  {
   "cell_type": "markdown",
   "metadata": {},
   "source": [
    "[**] Note that analogus operation in raw Python fails due to [lack of tuple unpacking in lambda](https://stackoverflow.com/questions/21892989/what-is-the-good-python3-equivalent-for-auto-tuple-unpacking-in-lambda)."
   ]
  },
  {
   "cell_type": "code",
   "execution_count": 13,
   "metadata": {},
   "outputs": [
    {
     "ename": "TypeError",
     "evalue": "<lambda>() missing 1 required positional argument: 'y'",
     "output_type": "error",
     "traceback": [
      "\u001b[0;31m---------------------------------------------------------------------------\u001b[0m",
      "\u001b[0;31mTypeError\u001b[0m                                 Traceback (most recent call last)",
      "\u001b[0;32m<ipython-input-13-514a409c7fc4>\u001b[0m in \u001b[0;36m<module>\u001b[0;34m\u001b[0m\n\u001b[1;32m      1\u001b[0m \u001b[0mtuples\u001b[0m \u001b[0;34m=\u001b[0m \u001b[0;34m(\u001b[0m\u001b[0;34m[\u001b[0m\u001b[0;36m0\u001b[0m\u001b[0;34m,\u001b[0m\u001b[0;36m2\u001b[0m\u001b[0;34m,\u001b[0m\u001b[0;36m4\u001b[0m\u001b[0;34m,\u001b[0m\u001b[0;36m6\u001b[0m\u001b[0;34m,\u001b[0m\u001b[0;36m8\u001b[0m\u001b[0;34m,\u001b[0m\u001b[0;36m10\u001b[0m\u001b[0;34m,\u001b[0m\u001b[0;36m12\u001b[0m\u001b[0;34m]\u001b[0m\u001b[0;34m,\u001b[0m \u001b[0;34m[\u001b[0m\u001b[0;36m4\u001b[0m\u001b[0;34m,\u001b[0m\u001b[0;36m5\u001b[0m\u001b[0;34m,\u001b[0m\u001b[0;36m6\u001b[0m\u001b[0;34m,\u001b[0m\u001b[0;36m7\u001b[0m\u001b[0;34m,\u001b[0m\u001b[0;36m8\u001b[0m\u001b[0;34m,\u001b[0m\u001b[0;36m9\u001b[0m\u001b[0;34m,\u001b[0m\u001b[0;36m10\u001b[0m\u001b[0;34m]\u001b[0m\u001b[0;34m)\u001b[0m\u001b[0;34m\u001b[0m\u001b[0;34m\u001b[0m\u001b[0m\n\u001b[0;32m----> 2\u001b[0;31m \u001b[0mlist\u001b[0m\u001b[0;34m(\u001b[0m\u001b[0mmap\u001b[0m\u001b[0;34m(\u001b[0m\u001b[0;32mlambda\u001b[0m \u001b[0mx\u001b[0m\u001b[0;34m,\u001b[0m \u001b[0my\u001b[0m\u001b[0;34m:\u001b[0m \u001b[0;34m(\u001b[0m\u001b[0mx\u001b[0m \u001b[0;34m+\u001b[0m \u001b[0my\u001b[0m\u001b[0;34m,\u001b[0m \u001b[0mx\u001b[0m \u001b[0;34m*\u001b[0m \u001b[0my\u001b[0m\u001b[0;34m)\u001b[0m\u001b[0;34m,\u001b[0m \u001b[0mzip\u001b[0m\u001b[0;34m(\u001b[0m\u001b[0mtuples\u001b[0m\u001b[0;34m)\u001b[0m\u001b[0;34m)\u001b[0m\u001b[0;34m)\u001b[0m\u001b[0;34m\u001b[0m\u001b[0;34m\u001b[0m\u001b[0m\n\u001b[0m",
      "\u001b[0;31mTypeError\u001b[0m: <lambda>() missing 1 required positional argument: 'y'"
     ]
    }
   ],
   "source": [
    "tuples = ([0,2,4,6,8,10,12], [4,5,6,7,8,9,10])\n",
    "list(map(lambda x, y: (x + y, x * y), zip(tuples)))"
   ]
  },
  {
   "cell_type": "markdown",
   "metadata": {},
   "source": [
    "## Dict element"
   ]
  },
  {
   "cell_type": "markdown",
   "metadata": {},
   "source": [
    "The magic we sa in tuple also works for dict of tensors."
   ]
  },
  {
   "cell_type": "code",
   "execution_count": 14,
   "metadata": {},
   "outputs": [
    {
     "name": "stdout",
     "output_type": "stream",
     "text": [
      "d['x'] = [0 1 2],   d['y'] = [2 3 4]\n",
      "d['x'] = [3 4 5],   d['y'] = [5 6 7]\n",
      "d['x'] = [6 7 8],   d['y'] = [ 8  9 10]\n",
      "d['x'] = [9],   d['y'] = [11]\n"
     ]
    }
   ],
   "source": [
    "d = {\"x\": tf.range(10), \"y\": tf.range(2, 12)}\n",
    "ds = tf.data.Dataset.from_tensor_slices(d)\n",
    "ds = ds.batch(3)\n",
    "for d in ds:\n",
    "    print(f\"d['x'] = {d['x']},   d['y'] = {d['y']}\")"
   ]
  },
  {
   "cell_type": "markdown",
   "metadata": {},
   "source": [
    "## Sliding window"
   ]
  },
  {
   "cell_type": "code",
   "execution_count": 15,
   "metadata": {},
   "outputs": [
    {
     "name": "stdout",
     "output_type": "stream",
     "text": [
      "[0 1 2]\n",
      "[1 2 3]\n",
      "[2 3 4]\n",
      "[3 4 5]\n",
      "[4 5 6]\n",
      "[5 6 7]\n",
      "[6 7 8]\n",
      "[7 8 9]\n",
      "[8 9]\n",
      "[9]\n"
     ]
    }
   ],
   "source": [
    "ds = tf.data.Dataset.range(10)\n",
    "ds = ds.window(3, shift=1).flat_map(lambda x: x.batch(3))\n",
    "for x in ds:\n",
    "    print(f\"{x}\")"
   ]
  },
  {
   "cell_type": "code",
   "execution_count": null,
   "metadata": {},
   "outputs": [],
   "source": []
  }
 ],
 "metadata": {
  "kernelspec": {
   "display_name": "Python 3",
   "language": "python",
   "name": "python3"
  },
  "language_info": {
   "codemirror_mode": {
    "name": "ipython",
    "version": 3
   },
   "file_extension": ".py",
   "mimetype": "text/x-python",
   "name": "python",
   "nbconvert_exporter": "python",
   "pygments_lexer": "ipython3",
   "version": "3.7.3"
  }
 },
 "nbformat": 4,
 "nbformat_minor": 2
}
