{
 "cells": [
  {
   "cell_type": "code",
   "execution_count": 1,
   "metadata": {},
   "outputs": [],
   "source": [
    "import tensorflow as tf\n",
    "import itertools as it\n",
    "tf.enable_eager_execution()"
   ]
  },
  {
   "cell_type": "code",
   "execution_count": 2,
   "metadata": {},
   "outputs": [
    {
     "name": "stdout",
     "output_type": "stream",
     "text": [
      "TensorFlow version: 1.11.0\n"
     ]
    }
   ],
   "source": [
    "print(\"TensorFlow version:\", tf.__version__)"
   ]
  },
  {
   "cell_type": "markdown",
   "metadata": {},
   "source": [
    "## Basic Dataset function\n",
    "\n",
    "Start with dataset giving integers 0, 1, 2, 3, 4, 5, 6."
   ]
  },
  {
   "cell_type": "code",
   "execution_count": 3,
   "metadata": {},
   "outputs": [],
   "source": [
    "def get_initial_dataset(to_=7, from_=0):\n",
    "    tensor = tf.range(from_, to_) \n",
    "    ds = tf.data.Dataset.from_tensor_slices(tensor)\n",
    "    return ds"
   ]
  },
  {
   "cell_type": "code",
   "execution_count": 4,
   "metadata": {},
   "outputs": [
    {
     "data": {
      "text/plain": [
       "<TensorSliceDataset shapes: (), types: tf.int32>"
      ]
     },
     "execution_count": 4,
     "metadata": {},
     "output_type": "execute_result"
    }
   ],
   "source": [
    "ds = get_initial_dataset()\n",
    "ds"
   ]
  },
  {
   "cell_type": "markdown",
   "metadata": {},
   "source": [
    "With eager mode enabled, `tf.data.Dataset` may be treated as a Python iterable object. Otherwise convert the object into `tf.data.Iterator` with `.make_one_shot_iterator()`. Then the iterator is accessed with TensorFlow iterator APIs such as `.get_next()`."
   ]
  },
  {
   "cell_type": "code",
   "execution_count": 5,
   "metadata": {},
   "outputs": [
    {
     "data": {
      "text/plain": [
       "[<tf.Tensor: id=7, shape=(), dtype=int32, numpy=0>,\n",
       " <tf.Tensor: id=8, shape=(), dtype=int32, numpy=1>,\n",
       " <tf.Tensor: id=9, shape=(), dtype=int32, numpy=2>,\n",
       " <tf.Tensor: id=10, shape=(), dtype=int32, numpy=3>,\n",
       " <tf.Tensor: id=11, shape=(), dtype=int32, numpy=4>,\n",
       " <tf.Tensor: id=12, shape=(), dtype=int32, numpy=5>,\n",
       " <tf.Tensor: id=13, shape=(), dtype=int32, numpy=6>]"
      ]
     },
     "execution_count": 5,
     "metadata": {},
     "output_type": "execute_result"
    }
   ],
   "source": [
    "list(it.islice(ds, 10))"
   ]
  },
  {
   "cell_type": "markdown",
   "metadata": {},
   "source": [
    "## Using `Dataset.batch()`"
   ]
  },
  {
   "cell_type": "markdown",
   "metadata": {},
   "source": [
    "`.batch()` is handy in grouping dataset elements by chunks. "
   ]
  },
  {
   "cell_type": "code",
   "execution_count": 6,
   "metadata": {},
   "outputs": [
    {
     "data": {
      "text/plain": [
       "<BatchDataset shapes: (2,), types: tf.int32>"
      ]
     },
     "execution_count": 6,
     "metadata": {},
     "output_type": "execute_result"
    }
   ],
   "source": [
    "ds = get_initial_dataset()\n",
    "ds = ds.batch(2, drop_remainder=True)\n",
    "ds"
   ]
  },
  {
   "cell_type": "code",
   "execution_count": 7,
   "metadata": {},
   "outputs": [
    {
     "data": {
      "text/plain": [
       "[<tf.Tensor: id=36, shape=(2,), dtype=int32, numpy=array([0, 1], dtype=int32)>,\n",
       " <tf.Tensor: id=37, shape=(2,), dtype=int32, numpy=array([2, 3], dtype=int32)>,\n",
       " <tf.Tensor: id=38, shape=(2,), dtype=int32, numpy=array([4, 5], dtype=int32)>]"
      ]
     },
     "execution_count": 7,
     "metadata": {},
     "output_type": "execute_result"
    }
   ],
   "source": [
    "list(it.islice(ds, 5))"
   ]
  },
  {
   "cell_type": "markdown",
   "metadata": {},
   "source": [
    "Note that the last element was droped as the result of `drop_remainder=True`."
   ]
  },
  {
   "cell_type": "markdown",
   "metadata": {},
   "source": [
    "You can apply batch multiple times to obtain high-dimensional element."
   ]
  },
  {
   "cell_type": "code",
   "execution_count": 8,
   "metadata": {},
   "outputs": [
    {
     "data": {
      "text/plain": [
       "<BatchDataset shapes: (3, 2), types: tf.int32>"
      ]
     },
     "execution_count": 8,
     "metadata": {},
     "output_type": "execute_result"
    }
   ],
   "source": [
    "ds = get_initial_dataset(20)\n",
    "ds = ds.batch(2, drop_remainder=True).batch(3, drop_remainder=True)\n",
    "ds"
   ]
  },
  {
   "cell_type": "code",
   "execution_count": 9,
   "metadata": {},
   "outputs": [
    {
     "data": {
      "text/plain": [
       "[<tf.Tensor: id=92, shape=(3, 2), dtype=int32, numpy=\n",
       " array([[0, 1],\n",
       "        [2, 3],\n",
       "        [4, 5]], dtype=int32)>,\n",
       " <tf.Tensor: id=93, shape=(3, 2), dtype=int32, numpy=\n",
       " array([[ 6,  7],\n",
       "        [ 8,  9],\n",
       "        [10, 11]], dtype=int32)>]"
      ]
     },
     "execution_count": 9,
     "metadata": {},
     "output_type": "execute_result"
    }
   ],
   "source": [
    "list(ds.take(2))"
   ]
  },
  {
   "cell_type": "markdown",
   "metadata": {},
   "source": [
    "## Tuple element"
   ]
  },
  {
   "cell_type": "markdown",
   "metadata": {},
   "source": [
    "Tuple of tensors becomes dataset with a tuple element after `.from_tensor_slices()`."
   ]
  },
  {
   "cell_type": "markdown",
   "metadata": {},
   "source": [
    "**[NOTE]** Length of element must agree."
   ]
  },
  {
   "cell_type": "code",
   "execution_count": 10,
   "metadata": {},
   "outputs": [
    {
     "data": {
      "text/plain": [
       "<TensorSliceDataset shapes: ((), ()), types: (tf.int32, tf.int32)>"
      ]
     },
     "execution_count": 10,
     "metadata": {},
     "output_type": "execute_result"
    }
   ],
   "source": [
    "tuple_of_tensors = (tf.range(10), tf.range(10, 20))\n",
    "ds = tf.data.Dataset.from_tensor_slices(tuple_of_tensors)\n",
    "ds"
   ]
  },
  {
   "cell_type": "code",
   "execution_count": 11,
   "metadata": {},
   "outputs": [
    {
     "data": {
      "text/plain": [
       "[(<tf.Tensor: id=103, shape=(), dtype=int32, numpy=0>,\n",
       "  <tf.Tensor: id=104, shape=(), dtype=int32, numpy=10>)]"
      ]
     },
     "execution_count": 11,
     "metadata": {},
     "output_type": "execute_result"
    }
   ],
   "source": [
    "list(ds.take(1))"
   ]
  },
  {
   "cell_type": "markdown",
   "metadata": {},
   "source": [
    "`.batch` works magically such that element is a tuple where each component is batched."
   ]
  },
  {
   "cell_type": "code",
   "execution_count": 12,
   "metadata": {},
   "outputs": [
    {
     "data": {
      "text/plain": [
       "[(<tf.Tensor: id=123, shape=(2,), dtype=int32, numpy=array([0, 1], dtype=int32)>,\n",
       "  <tf.Tensor: id=124, shape=(2,), dtype=int32, numpy=array([10, 11], dtype=int32)>)]"
      ]
     },
     "execution_count": 12,
     "metadata": {},
     "output_type": "execute_result"
    }
   ],
   "source": [
    "ds = ds.batch(2)\n",
    "list(ds.take(1))"
   ]
  },
  {
   "cell_type": "markdown",
   "metadata": {},
   "source": [
    "`.map` provide access each tuple element as positional arguments."
   ]
  },
  {
   "cell_type": "code",
   "execution_count": 13,
   "metadata": {},
   "outputs": [
    {
     "data": {
      "text/plain": [
       "[(<tf.Tensor: id=150, shape=(3,), dtype=int32, numpy=array([10, 12, 14], dtype=int32)>,\n",
       "  <tf.Tensor: id=151, shape=(3,), dtype=int32, numpy=array([ 0, 11, 24], dtype=int32)>)]"
      ]
     },
     "execution_count": 13,
     "metadata": {},
     "output_type": "execute_result"
    }
   ],
   "source": [
    "tuple_of_tensors = (tf.range(10), tf.range(10, 20))\n",
    "ds = tf.data.Dataset.from_tensor_slices(tuple_of_tensors)\n",
    "ds = ds.map(lambda x,y: (x + y, x * y))\n",
    "ds = ds.batch(3)\n",
    "\n",
    "list(ds.take(1))"
   ]
  },
  {
   "cell_type": "markdown",
   "metadata": {},
   "source": [
    "Note that analogus operation against Python list of tuples fails."
   ]
  },
  {
   "cell_type": "code",
   "execution_count": 14,
   "metadata": {},
   "outputs": [
    {
     "name": "stdout",
     "output_type": "stream",
     "text": [
      "Fails with error message: <lambda>() missing 1 required positional argument: 'y'\n"
     ]
    }
   ],
   "source": [
    "tuples = [(1,2), (3,4)]\n",
    "try:\n",
    "    list(map(lambda x,y: (x + y, x * y), tuples))\n",
    "    print(\"Works in raw Python!\")\n",
    "except TypeError as e:\n",
    "    print(\"Fails with error message:\", e)"
   ]
  },
  {
   "cell_type": "markdown",
   "metadata": {},
   "source": [
    "## Dict element"
   ]
  },
  {
   "cell_type": "markdown",
   "metadata": {},
   "source": [
    "In similar way as tuple, dataset handles dict of tensors elegantly."
   ]
  },
  {
   "cell_type": "code",
   "execution_count": 15,
   "metadata": {},
   "outputs": [],
   "source": [
    "d = {\"x\": tf.range(10), \"y\": tf.range(10, 20)}\n",
    "ds = tf.data.Dataset.from_tensor_slices(d)\n",
    "ds = ds.batch(3)"
   ]
  },
  {
   "cell_type": "code",
   "execution_count": 16,
   "metadata": {},
   "outputs": [
    {
     "data": {
      "text/plain": [
       "[{'x': <tf.Tensor: id=171, shape=(3,), dtype=int32, numpy=array([0, 1, 2], dtype=int32)>,\n",
       "  'y': <tf.Tensor: id=172, shape=(3,), dtype=int32, numpy=array([10, 11, 12], dtype=int32)>}]"
      ]
     },
     "execution_count": 16,
     "metadata": {},
     "output_type": "execute_result"
    }
   ],
   "source": [
    "list(ds.take(1))"
   ]
  },
  {
   "cell_type": "markdown",
   "metadata": {},
   "source": [
    "## Sliding window"
   ]
  },
  {
   "cell_type": "code",
   "execution_count": 21,
   "metadata": {},
   "outputs": [],
   "source": [
    "ds = get_initial_dataset(100)\n",
    "ds = ds.apply(tf.contrib.data.sliding_window_batch(4))\n",
    "ds = ds.batch(3, drop_remainder=True)"
   ]
  },
  {
   "cell_type": "code",
   "execution_count": 23,
   "metadata": {},
   "outputs": [
    {
     "data": {
      "text/plain": [
       "[<tf.Tensor: id=228, shape=(3, 4), dtype=int32, numpy=\n",
       " array([[0, 1, 2, 3],\n",
       "        [1, 2, 3, 4],\n",
       "        [2, 3, 4, 5]], dtype=int32)>,\n",
       " <tf.Tensor: id=229, shape=(3, 4), dtype=int32, numpy=\n",
       " array([[3, 4, 5, 6],\n",
       "        [4, 5, 6, 7],\n",
       "        [5, 6, 7, 8]], dtype=int32)>]"
      ]
     },
     "execution_count": 23,
     "metadata": {},
     "output_type": "execute_result"
    }
   ],
   "source": [
    "list(ds.take(2))"
   ]
  },
  {
   "cell_type": "code",
   "execution_count": null,
   "metadata": {},
   "outputs": [],
   "source": []
  }
 ],
 "metadata": {
  "kernelspec": {
   "display_name": "Python 3",
   "language": "python",
   "name": "python3"
  },
  "language_info": {
   "codemirror_mode": {
    "name": "ipython",
    "version": 3
   },
   "file_extension": ".py",
   "mimetype": "text/x-python",
   "name": "python",
   "nbconvert_exporter": "python",
   "pygments_lexer": "ipython3",
   "version": "3.6.6"
  }
 },
 "nbformat": 4,
 "nbformat_minor": 2
}
